{
 "cells": [
  {
   "cell_type": "markdown",
   "id": "1eda8460",
   "metadata": {},
   "source": [
    "Código"
   ]
  },
  {
   "cell_type": "code",
   "execution_count": 98,
   "id": "5f430f39",
   "metadata": {},
   "outputs": [],
   "source": [
    "import json\n",
    "from tabulate import tabulate\n",
    "from datetime import datetime\n",
    "from collections import deque\n",
    "import uuid\n",
    "\n",
    "exames = {}\n",
    "\n",
    "\n",
    "def gerar_id_exame():\n",
    "    return str(uuid.uuid4())[:4]  \n",
    "\n",
    "def inserir_exame(id_paciente, nome, data, tipo_peca, ia_altura, ia_largura, ia_peso, real_altura, real_largura, real_peso):\n",
    "    if id_paciente not in exames:\n",
    "        exames[id_paciente] = {\n",
    "            \"nome\": nome,\n",
    "            \"exames\": []\n",
    "        }\n",
    "\n",
    "    novo_exame = {\n",
    "        \"id_exame\": gerar_id_exame(),\n",
    "        \"data\": data,\n",
    "        \"tipo_peca\": tipo_peca,\n",
    "        \"IA_altura\": ia_altura,\n",
    "        \"IA_largura\": ia_largura,\n",
    "        \"IA_peso\": ia_peso,\n",
    "        \"Real_altura\": real_altura,\n",
    "        \"Real_largura\": real_largura,\n",
    "        \"Real_peso\": real_peso\n",
    "    }\n",
    "\n",
    "    exames[id_paciente][\"exames\"].append(novo_exame)\n",
    "\n",
    "def exibir_tabela(exames_dict):\n",
    "    linhas = []\n",
    "    for id_paciente, dados in exames_dict.items():\n",
    "        for exame in dados[\"exames\"]:\n",
    "            linha = [\n",
    "                id_paciente,\n",
    "                dados[\"nome\"],\n",
    "                exame[\"id_exame\"],\n",
    "                exame[\"data\"],\n",
    "                exame[\"tipo_peca\"],\n",
    "                exame[\"IA_altura\"],\n",
    "                exame[\"IA_largura\"],\n",
    "                exame[\"IA_peso\"],\n",
    "                exame[\"Real_altura\"],\n",
    "                exame[\"Real_largura\"],\n",
    "                exame[\"Real_peso\"]\n",
    "            ]\n",
    "            linhas.append(linha)\n",
    "    headers = [\"ID Paciente\", \"Nome\", \"ID Exame\", \"Data\", \"Tipo Peça\", \"IA Altura\", \"IA Largura\", \"IA Peso\",\n",
    "               \"Real Altura\", \"Real Largura\", \"Real Peso\"]\n",
    "    print(tabulate(linhas, headers=headers, tablefmt=\"grid\"))\n",
    "\n",
    "def bubble_sort(lista):\n",
    "    n = len(lista)\n",
    "    for i in range(n):\n",
    "        for j in range(0, n - i - 1):\n",
    "            nome_atual = lista[j][1][\"nome\"].lower()\n",
    "            nome_proximo = lista[j + 1][1][\"nome\"].lower()\n",
    "            if nome_atual > nome_proximo:\n",
    "                lista[j], lista[j + 1] = lista[j + 1], lista[j]\n",
    "    return lista\n",
    "\n",
    "def bubble_sort_exame(lista):\n",
    "    n = len(lista)\n",
    "    for i in range(n):\n",
    "        for j in range(0, n - i - 1):\n",
    "            if lista[j][\"id_exame\"] > lista[j + 1][\"id_exame\"]:\n",
    "                lista[j], lista[j + 1] = lista[j + 1], lista[j]\n",
    "    return lista\n",
    "\n",
    "def busca_binaria_exame(lista, id_alvo):\n",
    "    inicio = 0\n",
    "    fim = len(lista) - 1\n",
    "    while inicio <= fim:\n",
    "        meio = (inicio + fim) // 2\n",
    "        if lista[meio][\"id_exame\"] == id_alvo:\n",
    "            return meio\n",
    "        elif lista[meio][\"id_exame\"] < id_alvo:\n",
    "            inicio = meio + 1\n",
    "        else:\n",
    "            fim = meio - 1\n",
    "    return -1\n",
    "\n",
    "def excluir_exame_por_id(id_exame):\n",
    "    for id_paciente in list(exames.keys()):\n",
    "        exames_paciente = exames[id_paciente][\"exames\"]\n",
    "        exames_ordenados = bubble_sort_exame(exames_paciente.copy())  \n",
    "        indice = busca_binaria_exame(exames_ordenados, id_exame)\n",
    "\n",
    "        if indice != -1:\n",
    "            for i, exame in enumerate(exames_paciente):\n",
    "                if exame[\"id_exame\"] == id_exame:\n",
    "                    exames_paciente.pop(i)\n",
    "                    break\n",
    "\n",
    "            if not exames_paciente:\n",
    "                del exames[id_paciente]\n",
    "            print(f\"Exame com ID {id_exame} excluído com sucesso.\")\n",
    "            return\n",
    "    print(f\"Exame com ID {id_exame} não encontrado.\")\n",
    "\n",
    "\n",
    "\n",
    "\n",
    "\n",
    "def extrair_exames_paciente(id_paciente):\n",
    "    pacientes_ordenados = bubble_sort(list(exames.items()))\n",
    "    ids_ordenados = [item[0] for item in pacientes_ordenados]\n",
    "\n",
    "    \n",
    "    inicio, fim = 0, len(ids_ordenados) - 1\n",
    "    while inicio <= fim:\n",
    "        meio = (inicio + fim) // 2\n",
    "        if ids_ordenados[meio] == id_paciente:\n",
    "            return {id_paciente: dict(pacientes_ordenados[meio][1])}\n",
    "        elif ids_ordenados[meio] < id_paciente:\n",
    "            inicio = meio + 1\n",
    "        else:\n",
    "            fim = meio - 1\n",
    "\n",
    "    return None \n",
    "\n",
    "def salvar_dados(dados_json, nome_arquivo):\n",
    "    try:\n",
    "        with open(nome_arquivo, 'w', encoding='utf-8') as f:\n",
    "            json.dump(dados_json, f, ensure_ascii=False, indent=4)\n",
    "        print(f\"Arquivo '{nome_arquivo}' salvo com sucesso.\")\n",
    "    except Exception as e:\n",
    "        print(f\"Erro ao salvar o arquivo: {e}\")\n",
    "\n",
    "\n",
    "def historico_exames_recente(id_paciente, n=1):\n",
    "    if id_paciente not in exames:\n",
    "        print(\"Paciente não encontrado.\")\n",
    "        return {}\n",
    "\n",
    "    exames_paciente = exames[id_paciente][\"exames\"]\n",
    "    \n",
    "    # Ordenar usando método clássico (exemplo: insertion sort)\n",
    "    for i in range(1, len(exames_paciente)):\n",
    "        key = exames_paciente[i]\n",
    "        j = i - 1\n",
    "        while j >= 0 and datetime.strptime(exames_paciente[j][\"data\"], \"%Y-%m-%d\") < datetime.strptime(key[\"data\"], \"%Y-%m-%d\"):\n",
    "            exames_paciente[j + 1] = exames_paciente[j]\n",
    "            j -= 1\n",
    "        exames_paciente[j + 1] = key\n",
    "\n",
    "    return {\n",
    "        id_paciente: {\n",
    "            \"nome\": exames[id_paciente][\"nome\"],\n",
    "            \"exames\": exames_paciente[:n]\n",
    "        }\n",
    "    }\n",
    "\n",
    "\n",
    "fila_analise = {\n",
    "    \"Alta\": deque(),\n",
    "    \"Media\": deque(),\n",
    "    \"Baixa\": deque()\n",
    "}\n",
    "\n",
    "def adicionar_na_fila_analise(id_paciente, nome, tipo_peca, prioridade):\n",
    "    prioridade = prioridade.capitalize()\n",
    "    if prioridade not in fila_analise:\n",
    "        print(\"Prioridade inválida. Use: Alta, Media ou Baixa.\")\n",
    "        return\n",
    "    \n",
    "    fila_analise[prioridade].append({\n",
    "        \"id\": id_paciente,\n",
    "        \"nome\": nome,\n",
    "        \"tipo_peca\": tipo_peca,\n",
    "        \"prioridade\": prioridade\n",
    "    })\n",
    "    print(f\"Adicionado à fila ({prioridade}): {nome} - {tipo_peca}\")\n",
    "\n",
    "def fila_espera_analise():\n",
    "    print(\"Fila de Espera para Análise (por prioridade):\")\n",
    "    \n",
    "    for prioridade in [\"Alta\", \"Media\", \"Baixa\"]:\n",
    "        print(f\"\\nPrioridade: {prioridade}\")\n",
    "        for item in fila_analise[prioridade]:\n",
    "            print(f\"  • ID: {item['id']}, Nome: {item['nome']}, Tipo: {item['tipo_peca']}\")"
   ]
  },
  {
   "cell_type": "markdown",
   "id": "58cc2c54",
   "metadata": {},
   "source": [
    "IMPLEMENTAÇÃO"
   ]
  },
  {
   "cell_type": "code",
   "execution_count": 99,
   "id": "4053c702",
   "metadata": {},
   "outputs": [],
   "source": [
    "# Inserindo dados para teste do algoritimo\n",
    "\n",
    "inserir_exame(\"001\", \"Alice\", \"2025-05-01\", \"Pele\", 10.2, 5.1, 3.3, 9.8, 4.9, 3.1)\n",
    "inserir_exame(\"001\", \"Alice\", \"2025-05-15\", \"Rim\", 120.0, 65.0, 150.5, 118.5, 63.7, 148.9) \n",
    "inserir_exame(\"002\", \"Bruno\", \"2025-04-20\", \"Pele\", 9.5, 4.8, 3.0, 9.0, 4.5, 2.9)\n",
    "inserir_exame(\"003\", \"Carla\", \"2025-03-10\", \"Pinta\", 8.7, 4.4, 0.5, 8.3, 4.0, 0.4) \n",
    "inserir_exame(\"004\", \"Daniel\", \"2025-05-10\", \"Biópsia de Próstata\", 15.5, 3.2, 1.2, 15.0, 3.0, 1.1)\n",
    "inserir_exame(\"001\", \"Alice\", \"2025-06-01\", \"Pinta\", 6.3, 3.1, 0.3, 6.0, 2.9, 0.25)\n",
    "inserir_exame(\"002\", \"Bruno\", \"2025-05-25\", \"Nódulo Tireoide\", 20.1, 15.8, 5.5, 19.5, 15.2, 5.3)\n",
    "inserir_exame(\"005\", \"Eduarda\", \"2025-04-28\", \"Pele\", 12.8, 6.5, 4.0, 12.2, 6.1, 3.8)\n",
    "inserir_exame(\"003\", \"Carla\", \"2025-05-18\", \"Fragmento Ósseo\", 25.0, 10.0, 8.5, 24.3, 9.5, 8.1)\n",
    "inserir_exame(\"006\", \"Fernando\", \"2025-03-01\", \"Pólipo Intestinal\", 11.5, 7.0, 1.8, 11.0, 6.8, 1.7)\n",
    "inserir_exame(\"004\", \"Daniel\", \"2025-06-10\", \"Pele\", 7.9, 3.5, 1.0, 7.5, 3.3, 0.9)\n",
    "inserir_exame(\"001\", \"Alice\", \"2025-06-20\", \"Biópsia Endometrial\", 18.0, 4.0, 2.1, 17.5, 3.8, 2.0)\n",
    "inserir_exame(\"005\", \"Eduarda\", \"2025-06-05\", \"Pinta\", 5.5, 2.8, 0.2, 5.1, 2.5, 0.18)\n",
    "inserir_exame(\"007\", \"Gabriela\", \"2025-02-15\", \"Rim\", 115.0, 60.0, 140.0, 113.2, 58.5, 138.5)\n",
    "inserir_exame(\"002\", \"Bruno\", \"2025-06-30\", \"Linfonodo\", 13.5, 9.2, 3.5, 13.0, 8.9, 3.3)\n",
    "inserir_exame(\"008\", \"Heitor\", \"2025-01-20\", \"Amostra de Fígado\", 30.5, 20.0, 25.6, 29.8, 19.5, 25.0)\n",
    "inserir_exame(\"006\", \"Fernando\", \"2025-04-15\", \"Pele\", 14.2, 7.1, 4.5, 13.8, 6.8, 4.3)\n",
    "inserir_exame(\"003\", \"Carla\", \"2025-06-25\", \"Cisto Sebáceo\", 19.0, 18.5, 6.2, 18.5, 18.0, 6.0)\n",
    "inserir_exame(\"009\", \"Isabela\", \"2025-05-05\", \"Vesícula Biliar\", 70.0, 30.0, 45.0, 68.5, 28.0, 43.5)\n",
    "inserir_exame(\"001\", \"Alice\", \"2025-07-01\", \"Fragmento Muscular\", 22.5, 8.0, 5.8, 22.0, 7.7, 5.5)\n",
    "inserir_exame(\"010\", \"João\", \"2025-02-10\", \"Pele\", 11.0, 5.5, 3.5, 10.5, 5.2, 3.3)"
   ]
  },
  {
   "cell_type": "markdown",
   "id": "e4693ec3",
   "metadata": {},
   "source": [
    "# Exibindo Todos os registros "
   ]
  },
  {
   "cell_type": "code",
   "execution_count": 100,
   "id": "d397564f",
   "metadata": {},
   "outputs": [
    {
     "name": "stdout",
     "output_type": "stream",
     "text": [
      "Todos os exames:\n",
      "+---------------+----------+------------+------------+---------------------+-------------+--------------+-----------+---------------+----------------+-------------+\n",
      "|   ID Paciente | Nome     | ID Exame   | Data       | Tipo Peça           |   IA Altura |   IA Largura |   IA Peso |   Real Altura |   Real Largura |   Real Peso |\n",
      "+===============+==========+============+============+=====================+=============+==============+===========+===============+================+=============+\n",
      "|           001 | Alice    | ac6f       | 2025-05-01 | Pele                |        10.2 |          5.1 |       3.3 |           9.8 |            4.9 |        3.1  |\n",
      "+---------------+----------+------------+------------+---------------------+-------------+--------------+-----------+---------------+----------------+-------------+\n",
      "|           001 | Alice    | d330       | 2025-05-15 | Rim                 |       120   |         65   |     150.5 |         118.5 |           63.7 |      148.9  |\n",
      "+---------------+----------+------------+------------+---------------------+-------------+--------------+-----------+---------------+----------------+-------------+\n",
      "|           001 | Alice    | 36e0       | 2025-06-01 | Pinta               |         6.3 |          3.1 |       0.3 |           6   |            2.9 |        0.25 |\n",
      "+---------------+----------+------------+------------+---------------------+-------------+--------------+-----------+---------------+----------------+-------------+\n",
      "|           001 | Alice    | 2592       | 2025-06-20 | Biópsia Endometrial |        18   |          4   |       2.1 |          17.5 |            3.8 |        2    |\n",
      "+---------------+----------+------------+------------+---------------------+-------------+--------------+-----------+---------------+----------------+-------------+\n",
      "|           001 | Alice    | 7392       | 2025-07-01 | Fragmento Muscular  |        22.5 |          8   |       5.8 |          22   |            7.7 |        5.5  |\n",
      "+---------------+----------+------------+------------+---------------------+-------------+--------------+-----------+---------------+----------------+-------------+\n",
      "|           002 | Bruno    | 7bad       | 2025-04-20 | Pele                |         9.5 |          4.8 |       3   |           9   |            4.5 |        2.9  |\n",
      "+---------------+----------+------------+------------+---------------------+-------------+--------------+-----------+---------------+----------------+-------------+\n",
      "|           002 | Bruno    | da6f       | 2025-05-25 | Nódulo Tireoide     |        20.1 |         15.8 |       5.5 |          19.5 |           15.2 |        5.3  |\n",
      "+---------------+----------+------------+------------+---------------------+-------------+--------------+-----------+---------------+----------------+-------------+\n",
      "|           002 | Bruno    | f66c       | 2025-06-30 | Linfonodo           |        13.5 |          9.2 |       3.5 |          13   |            8.9 |        3.3  |\n",
      "+---------------+----------+------------+------------+---------------------+-------------+--------------+-----------+---------------+----------------+-------------+\n",
      "|           003 | Carla    | 38dc       | 2025-03-10 | Pinta               |         8.7 |          4.4 |       0.5 |           8.3 |            4   |        0.4  |\n",
      "+---------------+----------+------------+------------+---------------------+-------------+--------------+-----------+---------------+----------------+-------------+\n",
      "|           003 | Carla    | 89f3       | 2025-05-18 | Fragmento Ósseo     |        25   |         10   |       8.5 |          24.3 |            9.5 |        8.1  |\n",
      "+---------------+----------+------------+------------+---------------------+-------------+--------------+-----------+---------------+----------------+-------------+\n",
      "|           003 | Carla    | 3776       | 2025-06-25 | Cisto Sebáceo       |        19   |         18.5 |       6.2 |          18.5 |           18   |        6    |\n",
      "+---------------+----------+------------+------------+---------------------+-------------+--------------+-----------+---------------+----------------+-------------+\n",
      "|           004 | Daniel   | 6bce       | 2025-05-10 | Biópsia de Próstata |        15.5 |          3.2 |       1.2 |          15   |            3   |        1.1  |\n",
      "+---------------+----------+------------+------------+---------------------+-------------+--------------+-----------+---------------+----------------+-------------+\n",
      "|           004 | Daniel   | 04c4       | 2025-06-10 | Pele                |         7.9 |          3.5 |       1   |           7.5 |            3.3 |        0.9  |\n",
      "+---------------+----------+------------+------------+---------------------+-------------+--------------+-----------+---------------+----------------+-------------+\n",
      "|           005 | Eduarda  | a684       | 2025-04-28 | Pele                |        12.8 |          6.5 |       4   |          12.2 |            6.1 |        3.8  |\n",
      "+---------------+----------+------------+------------+---------------------+-------------+--------------+-----------+---------------+----------------+-------------+\n",
      "|           005 | Eduarda  | 6587       | 2025-06-05 | Pinta               |         5.5 |          2.8 |       0.2 |           5.1 |            2.5 |        0.18 |\n",
      "+---------------+----------+------------+------------+---------------------+-------------+--------------+-----------+---------------+----------------+-------------+\n",
      "|           006 | Fernando | ebe7       | 2025-03-01 | Pólipo Intestinal   |        11.5 |          7   |       1.8 |          11   |            6.8 |        1.7  |\n",
      "+---------------+----------+------------+------------+---------------------+-------------+--------------+-----------+---------------+----------------+-------------+\n",
      "|           006 | Fernando | 4d1e       | 2025-04-15 | Pele                |        14.2 |          7.1 |       4.5 |          13.8 |            6.8 |        4.3  |\n",
      "+---------------+----------+------------+------------+---------------------+-------------+--------------+-----------+---------------+----------------+-------------+\n",
      "|           007 | Gabriela | c443       | 2025-02-15 | Rim                 |       115   |         60   |     140   |         113.2 |           58.5 |      138.5  |\n",
      "+---------------+----------+------------+------------+---------------------+-------------+--------------+-----------+---------------+----------------+-------------+\n",
      "|           008 | Heitor   | 4b08       | 2025-01-20 | Amostra de Fígado   |        30.5 |         20   |      25.6 |          29.8 |           19.5 |       25    |\n",
      "+---------------+----------+------------+------------+---------------------+-------------+--------------+-----------+---------------+----------------+-------------+\n",
      "|           009 | Isabela  | 6fed       | 2025-05-05 | Vesícula Biliar     |        70   |         30   |      45   |          68.5 |           28   |       43.5  |\n",
      "+---------------+----------+------------+------------+---------------------+-------------+--------------+-----------+---------------+----------------+-------------+\n",
      "|           010 | João     | bae3       | 2025-02-10 | Pele                |        11   |          5.5 |       3.5 |          10.5 |            5.2 |        3.3  |\n",
      "+---------------+----------+------------+------------+---------------------+-------------+--------------+-----------+---------------+----------------+-------------+\n"
     ]
    }
   ],
   "source": [
    "\n",
    "print(\"Todos os exames:\")\n",
    "exibir_tabela(exames)"
   ]
  },
  {
   "cell_type": "markdown",
   "id": "d3661278",
   "metadata": {},
   "source": [
    "# Buscando\\Extraindo e Exibindo os 1 Paciente"
   ]
  },
  {
   "cell_type": "code",
   "execution_count": 101,
   "id": "cf48780e",
   "metadata": {},
   "outputs": [
    {
     "name": "stdout",
     "output_type": "stream",
     "text": [
      "Exames do paciente 001:\n",
      "+---------------+--------+------------+------------+---------------------+-------------+--------------+-----------+---------------+----------------+-------------+\n",
      "|   ID Paciente | Nome   | ID Exame   | Data       | Tipo Peça           |   IA Altura |   IA Largura |   IA Peso |   Real Altura |   Real Largura |   Real Peso |\n",
      "+===============+========+============+============+=====================+=============+==============+===========+===============+================+=============+\n",
      "|           001 | Alice  | ac6f       | 2025-05-01 | Pele                |        10.2 |          5.1 |       3.3 |           9.8 |            4.9 |        3.1  |\n",
      "+---------------+--------+------------+------------+---------------------+-------------+--------------+-----------+---------------+----------------+-------------+\n",
      "|           001 | Alice  | d330       | 2025-05-15 | Rim                 |       120   |         65   |     150.5 |         118.5 |           63.7 |      148.9  |\n",
      "+---------------+--------+------------+------------+---------------------+-------------+--------------+-----------+---------------+----------------+-------------+\n",
      "|           001 | Alice  | 36e0       | 2025-06-01 | Pinta               |         6.3 |          3.1 |       0.3 |           6   |            2.9 |        0.25 |\n",
      "+---------------+--------+------------+------------+---------------------+-------------+--------------+-----------+---------------+----------------+-------------+\n",
      "|           001 | Alice  | 2592       | 2025-06-20 | Biópsia Endometrial |        18   |          4   |       2.1 |          17.5 |            3.8 |        2    |\n",
      "+---------------+--------+------------+------------+---------------------+-------------+--------------+-----------+---------------+----------------+-------------+\n",
      "|           001 | Alice  | 7392       | 2025-07-01 | Fragmento Muscular  |        22.5 |          8   |       5.8 |          22   |            7.7 |        5.5  |\n",
      "+---------------+--------+------------+------------+---------------------+-------------+--------------+-----------+---------------+----------------+-------------+\n"
     ]
    }
   ],
   "source": [
    "paciente = '001'\n",
    "print(f\"Exames do paciente {paciente}:\")\n",
    "exames_paciente= extrair_exames_paciente(paciente)\n",
    "if exames_paciente:\n",
    "    exibir_tabela(exames_paciente)\n",
    "else:\n",
    "    print(\"Paciente não encontrado.\")\n"
   ]
  },
  {
   "cell_type": "markdown",
   "id": "8296f606",
   "metadata": {},
   "source": [
    "# Extraindo/Exibindo o Historico do N Exames Mais Recentes de um Paciente"
   ]
  },
  {
   "cell_type": "code",
   "execution_count": 102,
   "id": "9f51b58a",
   "metadata": {},
   "outputs": [
    {
     "name": "stdout",
     "output_type": "stream",
     "text": [
      "Os 3 exames mais recentes da paciente 001:\n",
      "+---------------+--------+------------+------------+---------------------+-------------+--------------+-----------+---------------+----------------+-------------+\n",
      "|   ID Paciente | Nome   |   ID Exame | Data       | Tipo Peça           |   IA Altura |   IA Largura |   IA Peso |   Real Altura |   Real Largura |   Real Peso |\n",
      "+===============+========+============+============+=====================+=============+==============+===========+===============+================+=============+\n",
      "|           001 | Alice  |       7392 | 2025-07-01 | Fragmento Muscular  |        22.5 |          8   |       5.8 |          22   |            7.7 |        5.5  |\n",
      "+---------------+--------+------------+------------+---------------------+-------------+--------------+-----------+---------------+----------------+-------------+\n",
      "|           001 | Alice  |       2592 | 2025-06-20 | Biópsia Endometrial |        18   |          4   |       2.1 |          17.5 |            3.8 |        2    |\n",
      "+---------------+--------+------------+------------+---------------------+-------------+--------------+-----------+---------------+----------------+-------------+\n",
      "|           001 | Alice  |         36 | 2025-06-01 | Pinta               |         6.3 |          3.1 |       0.3 |           6   |            2.9 |        0.25 |\n",
      "+---------------+--------+------------+------------+---------------------+-------------+--------------+-----------+---------------+----------------+-------------+\n"
     ]
    }
   ],
   "source": [
    "n_exames = 3\n",
    "paciente = '001'\n",
    "print(f\"Os {n_exames} exames mais recentes da paciente {paciente}:\")\n",
    "recentes = historico_exames_recente(paciente, n_exames)\n",
    "exibir_tabela(recentes)"
   ]
  },
  {
   "cell_type": "markdown",
   "id": "71a8d126",
   "metadata": {},
   "source": [
    "# Exibindo (Fila) de espera para fazer um exame"
   ]
  },
  {
   "cell_type": "code",
   "execution_count": 103,
   "id": "c9903587",
   "metadata": {},
   "outputs": [
    {
     "name": "stdout",
     "output_type": "stream",
     "text": [
      "Adicionado à fila (Alta): Alice - Tumor\n",
      "Adicionado à fila (Media): Bruno - Biópsia\n",
      "Adicionado à fila (Baixa): Carlos - Lesão\n",
      "Adicionado à fila (Alta): Diana - Nódulo\n"
     ]
    }
   ],
   "source": [
    "adicionar_na_fila_analise(\"001\", \"Alice\", \"Tumor\", \"Alta\")\n",
    "adicionar_na_fila_analise(\"002\", \"Bruno\", \"Biópsia\", \"Media\")\n",
    "adicionar_na_fila_analise(\"003\", \"Carlos\", \"Lesão\", \"Baixa\")\n",
    "adicionar_na_fila_analise(\"004\", \"Diana\", \"Nódulo\", \"Alta\")\n",
    "\n"
   ]
  },
  {
   "cell_type": "code",
   "execution_count": 104,
   "id": "6a70a967",
   "metadata": {},
   "outputs": [
    {
     "name": "stdout",
     "output_type": "stream",
     "text": [
      "Fila de Espera para Análise (por prioridade):\n",
      "\n",
      "Prioridade: Alta\n",
      "  • ID: 001, Nome: Alice, Tipo: Tumor\n",
      "  • ID: 004, Nome: Diana, Tipo: Nódulo\n",
      "\n",
      "Prioridade: Media\n",
      "  • ID: 002, Nome: Bruno, Tipo: Biópsia\n",
      "\n",
      "Prioridade: Baixa\n",
      "  • ID: 003, Nome: Carlos, Tipo: Lesão\n"
     ]
    }
   ],
   "source": [
    "fila_espera_analise()"
   ]
  },
  {
   "cell_type": "markdown",
   "id": "3d50ec1f",
   "metadata": {},
   "source": [
    "# Excluindo exames do histórico"
   ]
  },
  {
   "cell_type": "code",
   "execution_count": 105,
   "id": "dff94829",
   "metadata": {},
   "outputs": [
    {
     "name": "stdout",
     "output_type": "stream",
     "text": [
      "Exame com ID dca5 não encontrado.\n"
     ]
    }
   ],
   "source": [
    "id_exame = 'dca5'\n",
    "excluir_exame_por_id(id_exame)"
   ]
  },
  {
   "cell_type": "markdown",
   "id": "edde6a43",
   "metadata": {},
   "source": [
    "# Salvando Dados Json"
   ]
  },
  {
   "cell_type": "code",
   "execution_count": 106,
   "id": "15a53714",
   "metadata": {},
   "outputs": [
    {
     "name": "stdout",
     "output_type": "stream",
     "text": [
      "Arquivo 'exames_pacientes.json' salvo com sucesso.\n"
     ]
    }
   ],
   "source": [
    "salvar_dados(exames, \"exames_pacientes.json\")\n"
   ]
  }
 ],
 "metadata": {
  "kernelspec": {
   "display_name": "base",
   "language": "python",
   "name": "python3"
  },
  "language_info": {
   "codemirror_mode": {
    "name": "ipython",
    "version": 3
   },
   "file_extension": ".py",
   "mimetype": "text/x-python",
   "name": "python",
   "nbconvert_exporter": "python",
   "pygments_lexer": "ipython3",
   "version": "3.12.7"
  }
 },
 "nbformat": 4,
 "nbformat_minor": 5
}
